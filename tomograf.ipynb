{
 "cells": [
  {
   "cell_type": "code",
   "execution_count": null,
   "id": "vulnerable-giving",
   "metadata": {},
   "outputs": [],
   "source": [
    "import math\n",
    "import numpy as np\n",
    "import matplotlib.pyplot as plt\n",
    "import matplotlib.image as mpimg\n",
    "pi = np.pi\n",
    "\n",
    "# obrazek powinien byc tak\n",
    "# /\\\n",
    "# |\n",
    "# |\n",
    "# |\n",
    "# (0,0)------->"
   ]
  },
  {
   "cell_type": "code",
   "execution_count": null,
   "id": "palestinian-hughes",
   "metadata": {},
   "outputs": [],
   "source": [
    "img = mpimg.imread('tomograf-zdjecia/Kwadraty2.jpg')[:,:,2] / 255\n",
    "\n",
    "picHeight = img.shape[0]\n",
    "picWidth = img.shape[1]\n",
    "\n",
    "r =  np.sqrt( picWidth**2 + picHeight**2 ) /2\n",
    "\n",
    "print(picWidth)\n",
    "print(picWidth)\n",
    "print(r)\n",
    "\n",
    "#plt.imshow(img)"
   ]
  },
  {
   "cell_type": "code",
   "execution_count": null,
   "id": "italian-editor",
   "metadata": {},
   "outputs": [],
   "source": [
    "def transformToPictureCoordinates(point, picHeight, picWidth):\n",
    "    X = point[0] + (0.5*picWidth)\n",
    "    Y = point[1] + (0.5*picHeight)\n",
    "    \n",
    "    X = np.floor(X)\n",
    "    Y = np.floor(Y)\n",
    "    return ( X, Y )\n",
    "\n",
    "def getSource(alfa, r):\n",
    "    Xe = r * np.cos(alfa)\n",
    "    Ye = r * np.sin(alfa)\n",
    "    \n",
    "    return (Xe, Ye)\n",
    "\n",
    "#n - ilosc detektorow, alfa - przesuniecie wszystkeigo, phi - rozstawienie detektorow, r - promien kola\n",
    "def getDetectors(n, alfa, phi, r):\n",
    "    detectors = []\n",
    "    \n",
    "    # D0\n",
    "    Xd = r * np.cos(alfa + pi - phi/2)    \n",
    "    Yd = r * np.sin(alfa + pi - phi/2)\n",
    "\n",
    "    detectors.append( (Xd, Yd) )\n",
    "    \n",
    "    # D1 ... Dn-1\n",
    "    for i in range(1,n):\n",
    "        Xd = r * np.cos(alfa + pi - phi/2 + i * phi/(n-1))\n",
    "        Yd = r * np.sin(alfa + pi - phi/2 + i * phi/(n-1))\n",
    "        \n",
    "        detectors.append( (Xd, Yd) )\n",
    "    \n",
    "    return detectors"
   ]
  },
  {
   "cell_type": "code",
   "execution_count": null,
   "id": "bottom-episode",
   "metadata": {},
   "outputs": [],
   "source": [
    "# TESTY\n",
    "\n",
    "# wspolrzedne abstrakcyjne\n",
    "source = getSource(pi+pi/4, r)\n",
    "detectors = getDetectors(3, pi+pi/4, pi/2, r)\n",
    "\n",
    "# wspolrzedne na obrazku\n",
    "pSource = transformToPictureCoordinates(source, picWidth, picHeight)\n",
    "pDetectors = [transformToPictureCoordinates(x, picWidth, picHeight) for x in detectors]\n",
    "\n",
    "print(pSource)\n",
    "print(pDetectors)\n",
    "# ------------------"
   ]
  },
  {
   "cell_type": "code",
   "execution_count": null,
   "id": "national-haiti",
   "metadata": {},
   "outputs": [],
   "source": []
  }
 ],
 "metadata": {
  "kernelspec": {
   "display_name": "Python 3",
   "language": "python",
   "name": "python3"
  },
  "language_info": {
   "codemirror_mode": {
    "name": "ipython",
    "version": 3
   },
   "file_extension": ".py",
   "mimetype": "text/x-python",
   "name": "python",
   "nbconvert_exporter": "python",
   "pygments_lexer": "ipython3",
   "version": "3.9.2"
  }
 },
 "nbformat": 4,
 "nbformat_minor": 5
}
