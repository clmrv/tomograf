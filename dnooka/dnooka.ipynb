{
 "cells": [
  {
   "cell_type": "code",
   "execution_count": null,
   "id": "sensitive-netherlands",
   "metadata": {},
   "outputs": [],
   "source": [
    "import numpy as np\n",
    "import matplotlib.pyplot as plt\n",
    "from skimage import filters, exposure, feature, morphology\n",
    "from skimage.color import rgb2gray"
   ]
  },
  {
   "cell_type": "code",
   "execution_count": null,
   "id": "ultimate-amsterdam",
   "metadata": {},
   "outputs": [],
   "source": [
    "def imshow(img, title=\"\", preview = True):\n",
    "    if preview:\n",
    "        plt.figure(figsize = (5,5))\n",
    "        plt.title(title)\n",
    "        plt.imshow(img, cmap='gray')\n",
    "        plt.show()"
   ]
  },
  {
   "cell_type": "code",
   "execution_count": null,
   "id": "union-blues",
   "metadata": {},
   "outputs": [],
   "source": [
    "def load(id, preview = False):\n",
    "    img = plt.imread(f\"chase/Image_{id}.jpg\")\n",
    "    imshow(img, \"Obraz oryginalny\", preview)\n",
    "    \n",
    "    ref = plt.imread(f\"chase/Image_{id}_1stHO.png\")\n",
    "    imshow(ref, \"Obraz referencyjny\", preview)\n",
    "    \n",
    "    return (img, ref)"
   ]
  },
  {
   "cell_type": "code",
   "execution_count": null,
   "id": "possible-indianapolis",
   "metadata": {},
   "outputs": [],
   "source": [
    "def mask(image):\n",
    "    (h, w) = image.shape\n",
    "    center = (int(w/2), int(h/2))\n",
    "    radius = min(center[0], center[1], w-center[0], h-center[1]) * 0.92\n",
    "\n",
    "    Y, X = np.ogrid[:h, :w]\n",
    "    dist_from_center = np.sqrt((X - center[0])**2 + (Y-center[1])**2)\n",
    "\n",
    "    image[dist_from_center > radius] = 0"
   ]
  },
  {
   "cell_type": "code",
   "execution_count": null,
   "id": "innovative-patch",
   "metadata": {},
   "outputs": [],
   "source": [
    "def method_1(img, preview = False):\n",
    "    \n",
    "    img = rgb2gray(img)\n",
    "    \n",
    "    img = exposure.adjust_gamma(img, 0.5)\n",
    "    imshow(img, \"Gamma\", preview)\n",
    "    \n",
    "    img = exposure.rescale_intensity(img)\n",
    "    imshow(img, \"Ekspozycja\", preview)\n",
    "\n",
    "    filtered = filters.gaussian(img, 3)\n",
    "    imshow(filtered, \"Rozmycie\", preview)\n",
    "    \n",
    "    filtered = filters.unsharp_mask(img, 10)\n",
    "    imshow(filtered, \"Wyostrzenie\", preview)\n",
    "\n",
    "    edges = filters.frangi(filtered)\n",
    "    imshow(edges, \"Krawędzie\", preview)\n",
    "\n",
    "    binary = edges > filters.threshold_triangle(edges, 512)\n",
    "    imshow(binary, \"Maska binarna\", preview)\n",
    "    \n",
    "    f = morphology.binary_opening(binary)\n",
    "    imshow(f, \"Opening\", preview)\n",
    "    \n",
    "    mask(f)\n",
    "    imshow(f, \"Usunięcie okręgu\", preview)\n",
    "    \n",
    "    return f"
   ]
  },
  {
   "cell_type": "code",
   "execution_count": null,
   "id": "adequate-telephone",
   "metadata": {},
   "outputs": [],
   "source": [
    "def analysis(img, ref):\n",
    "    (rows, columns) = ref.shape\n",
    "    tp = 0\n",
    "    fn = 0\n",
    "    fp = 0\n",
    "    tn = 0\n",
    "    for r in range(rows):\n",
    "        for c in range(columns):\n",
    "            if ref[r][c] == 1:\n",
    "                if img[r][c] == 1:\n",
    "                    tp += 1\n",
    "                else:\n",
    "                    fn += 1\n",
    "            else:\n",
    "                if img[r][c] == 1:\n",
    "                    fp += 1\n",
    "                else:\n",
    "                    tn += 1\n",
    "    pop = tp + fn + fp + tn\n",
    "    \n",
    "    accuracy = (tp + tn) / pop\n",
    "    sensitivity = tp / (tp + fn)\n",
    "    specificity = tn / (tn + fp)\n",
    "    balanced_accuracy = (sensitivity + specificity) / 2\n",
    "    f1 = (2 * tp) / (2 * tp + fp + fn)\n",
    "    \n",
    "    print(f\"Accuracy (trafność):\\t\\t{accuracy}\")\n",
    "    print(f\"Sensitivity (czułość):\\t\\t{sensitivity}\")\n",
    "    print(f\"Specificity (swoistość):\\t{specificity}\")\n",
    "    print(f\"Balanced accuracy:\\t\\t{balanced_accuracy}\")\n",
    "    print(f\"F1 score:\\t\\t\\t{f1}\")"
   ]
  },
  {
   "cell_type": "code",
   "execution_count": null,
   "id": "incorrect-decrease",
   "metadata": {
    "scrolled": false
   },
   "outputs": [],
   "source": [
    "(img, ref) = load(\"01L\", True)\n",
    "\n",
    "print(\"Metoda 1\")\n",
    "m1 = method_1(img, True)\n",
    "analysis(m1, ref)"
   ]
  },
  {
   "cell_type": "code",
   "execution_count": null,
   "id": "honey-flood",
   "metadata": {},
   "outputs": [],
   "source": []
  }
 ],
 "metadata": {
  "kernelspec": {
   "display_name": "Python 3",
   "language": "python",
   "name": "python3"
  },
  "language_info": {
   "codemirror_mode": {
    "name": "ipython",
    "version": 3
   },
   "file_extension": ".py",
   "mimetype": "text/x-python",
   "name": "python",
   "nbconvert_exporter": "python",
   "pygments_lexer": "ipython3",
   "version": "3.9.4"
  }
 },
 "nbformat": 4,
 "nbformat_minor": 5
}
