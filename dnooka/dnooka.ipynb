{
 "cells": [
  {
   "cell_type": "code",
   "execution_count": null,
   "id": "sensitive-netherlands",
   "metadata": {},
   "outputs": [],
   "source": [
    "import numpy as np\n",
    "import matplotlib.pyplot as plt\n",
    "from skimage import filters, exposure, feature, morphology, measure, filters\n",
    "from skimage.color import rgb2gray\n",
    "import scipy.stats as stats\n",
    "import sklearn.feature_extraction\n",
    "from sklearn.model_selection import train_test_split\n",
    "import random\n",
    "from sklearn import svm, tree\n",
    "import pickle\n",
    "from keras.models import Sequential, Model, load_model\n",
    "from keras.layers import concatenate, core, Flatten, Conv2D, Dense, MaxPooling2D, ThresholdedReLU, Dropout, Conv2DTranspose, UpSampling2D\n",
    "import ipywidgets as widgets\n",
    "from IPython.display import display"
   ]
  },
  {
   "cell_type": "code",
   "execution_count": null,
   "id": "ultimate-amsterdam",
   "metadata": {},
   "outputs": [],
   "source": [
    "def imshow(img, title=\"\", preview = True):\n",
    "    if preview:\n",
    "        plt.figure(figsize = (5,5))\n",
    "        plt.title(title)\n",
    "        plt.imshow(img, cmap='gray')\n",
    "        plt.show()\n",
    "        \n",
    "def load(id, preview = False):\n",
    "    img = plt.imread(f\"chase/Image_{id}.jpg\")\n",
    "    imshow(img, \"Obraz oryginalny\", preview)\n",
    "    \n",
    "    ref = plt.imread(f\"chase/Image_{id}_1stHO.png\")\n",
    "    imshow(ref, \"Obraz referencyjny\", preview)\n",
    "    \n",
    "    return (img, ref)\n",
    "\n",
    "def mask(image):\n",
    "    (h, w) = image.shape\n",
    "    center = (int(w/2), int(h/2))\n",
    "    radius = min(center[0], center[1], w-center[0], h-center[1]) * 0.92\n",
    "\n",
    "    Y, X = np.ogrid[:h, :w]\n",
    "    dist_from_center = np.sqrt((X - center[0])**2 + (Y-center[1])**2)\n",
    "\n",
    "    image[dist_from_center > radius] = 0\n",
    "    \n",
    "def get_picture_data(img, ref, box=5):\n",
    "    patches = sklearn.feature_extraction.image.extract_patches_2d(img, (box,box))\n",
    "    \n",
    "    if box % 2 == 0:\n",
    "        to_slice = box // 2\n",
    "        main_squares = ref[to_slice : -to_slice + 1, to_slice : -to_slice + 1].flatten()\n",
    "    else:\n",
    "        to_slice = box//2\n",
    "        main_squares = ref[to_slice : -to_slice, to_slice : -to_slice].flatten()\n",
    "\n",
    "    return (patches, main_squares)\n",
    "\n",
    "def analysis(img, ref, file_name=None, method=\"\"):\n",
    "    (rows, columns) = ref.shape\n",
    "    output_img = []\n",
    "    tp = 0\n",
    "    fn = 0\n",
    "    fp = 0\n",
    "    tn = 0\n",
    "    for r in range(rows):\n",
    "        output_img.append([])\n",
    "        for c in range(columns):\n",
    "            if ref[r][c] == 1:\n",
    "                if img[r][c] == 1:\n",
    "                    tp += 1\n",
    "                    output_img[r].append([0,1.0,0]) #green\n",
    "                else:\n",
    "                    fn += 1\n",
    "                    output_img[r].append([1.0,0,0]) #red\n",
    "            else:\n",
    "                if img[r][c] == 1:\n",
    "                    fp += 1\n",
    "                    output_img[r].append([1.0,1.0,0]) #yellow\n",
    "                else:\n",
    "                    tn += 1\n",
    "                    output_img[r].append([0,0,0]) #black\n",
    "    pop = tp + fn + fp + tn\n",
    "    \n",
    "    accuracy = (tp + tn) / pop\n",
    "    sensitivity = tp / (tp + fn)\n",
    "    specificity = tn / (tn + fp)\n",
    "    balanced_accuracy = (sensitivity + specificity) / 2\n",
    "    f1 = (2 * tp) / (2 * tp + fp + fn)\n",
    "    \n",
    "    output_img = np.array([np.array(x) for x in output_img])\n",
    "    imshow(output_img, \"Porównanie wyniku z obrazem referencyjnym\", True)\n",
    "    \n",
    "    print(f\"True positive:\\t{tp}\\t(zielony)\")\n",
    "    print(f\"True negative:\\t{tn}\\t(czarny)\")\n",
    "    print(f\"False positive:\\t{fp}\\t(żółty)\")\n",
    "    print(f\"False negative:\\t{fn}\\t(czerwony)\")\n",
    "    print(f\"Accuracy (trafność):\\t\\t{accuracy}\")\n",
    "    print(f\"Sensitivity (czułość):\\t\\t{sensitivity}\")\n",
    "    print(f\"Specificity (swoistość):\\t{specificity}\")\n",
    "    print(f\"Balanced accuracy:\\t\\t{balanced_accuracy}\")\n",
    "    print(f\"F1 score:\\t\\t\\t{f1}\")\n",
    "    \n",
    "    if (file_name):\n",
    "        filepath_name = \"./raport/dane/\" + method + \"/\" + file_name\n",
    "        \n",
    "        plt.imsave(filepath_name + \".png\", output_img)\n",
    "        \n",
    "        file = open(filepath_name + \".txt\", \"w\")\n",
    "        file.write(\"\\\\begin{figure}[!h]\\n\")\n",
    "        file.write(\"\\t\\\\centering\\n\")\n",
    "        file.write(\"\\t\\\\begin{minipage}{0.26\\\\linewidth}\\n\")\n",
    "        file.write(\"\\t\\t\\\\includegraphics[width=\\\\linewidth]{./dane/\" + method + \"/\" + file_name + \".png}\\n\")\n",
    "        file.write(\"\\t\\t\\\\centering\\n\")\n",
    "        file.write(\"\\t\\t\\t\\\\small{\" + method + \"}\\n\")\n",
    "        file.write(\"\\t\\\\end{minipage}\\n\")\n",
    "        file.write(\"\\t\\\\hfill\\n\")\n",
    "        file.write(\"\\t\\\\begin{minipage}{0.55\\\\linewidth}\\n\")\n",
    "        file.write(\"\\t\\t\\\\begin{tabular}{|>{\\columncolor[gray]{0.9}}c|c|c|}\\n\")\n",
    "        file.write(\"\\t\\t\\t\\\\hline \\\\rowcolor{Gray}\\n\")\n",
    "        file.write(\"\\t\\t\\t\\\\diagbox{\\\\textbf{pred.}}{\\\\textbf{act.}} & \\\\textbf{positives} & \\\\textbf{negatives} \\\\\\\\ \\\\hline\\n\") \n",
    "        file.write(\"\\t\\t\\t\\\\textbf{positives} & \" + str(tp))\n",
    "        file.write(f\"& {fp} \\\\\\\\ \\\\hline\\n\")\n",
    "        file.write(\"\\t\\t\\t\\\\textbf{negatives} & \" + str(fn))\n",
    "        file.write(f\"& {tn} \\\\\\\\ \\\\hline\\n\")\n",
    "        file.write(\"\\t\\t\\\\end{tabular}\\n\")\n",
    "        file.write(\"\\t\\t\\\\begin{tabular}{l r}\\n\")\n",
    "        file.write(\"\\t\\t\\tAccuracy (trafność): & %.4f \\\\\\\\\\n\" % accuracy)\n",
    "        file.write(\"\\t\\t\\tSensitivity (czułość): & %.4f \\\\\\\\\\n\" % sensitivity)\n",
    "        file.write(\"\\t\\t\\tSpecificity (swoistość): & %.4f \\\\\\\\\\n\" % specificity)\n",
    "        file.write(\"\\t\\t\\tBalanced accuracy: & %.4f \\\\\\\\\\n\" % balanced_accuracy)\n",
    "        file.write(\"\\t\\t\\tF1 score: & %.4f \\\\\\\\\\n\" % f1) \n",
    "        file.write(\"\\t\\t\\\\end{tabular}\\n\")\n",
    "        file.write(\"\\t\\\\end{minipage}\\n\")\n",
    "        file.write(\"\\\\end{figure}\\n\")\n",
    "        file.close()"
   ]
  },
  {
   "cell_type": "markdown",
   "id": "mechanical-valuation",
   "metadata": {},
   "source": [
    "# Metoda 1"
   ]
  },
  {
   "cell_type": "code",
   "execution_count": null,
   "id": "liberal-commitment",
   "metadata": {},
   "outputs": [],
   "source": [
    "def method_1(img, preview = False):\n",
    "    \n",
    "    img = rgb2gray(img)\n",
    "    \n",
    "    img = exposure.adjust_gamma(img, 0.5)\n",
    "    imshow(img, \"Gamma\", preview)\n",
    "    \n",
    "    img = exposure.rescale_intensity(img)\n",
    "    imshow(img, \"Ekspozycja\", preview)\n",
    "\n",
    "    filtered = filters.gaussian(img, 3)\n",
    "    imshow(filtered, \"Rozmycie\", preview)\n",
    "    \n",
    "    filtered = filters.unsharp_mask(img, 10)\n",
    "    imshow(filtered, \"Wyostrzenie\", preview)\n",
    "\n",
    "    edges = filters.frangi(filtered)\n",
    "    imshow(edges, \"Krawędzie\", preview)\n",
    "\n",
    "    binary = edges > filters.threshold_triangle(edges, 512)\n",
    "    imshow(binary, \"Maska binarna\", preview)\n",
    "    \n",
    "    f = morphology.binary_opening(binary)\n",
    "    imshow(f, \"Opening\", preview)\n",
    "    \n",
    "    mask(f)\n",
    "    imshow(f, \"Usunięcie okręgu\", preview)\n",
    "    \n",
    "    return f"
   ]
  },
  {
   "cell_type": "markdown",
   "id": "graduate-establishment",
   "metadata": {},
   "source": [
    "### Wykonanie"
   ]
  },
  {
   "cell_type": "code",
   "execution_count": null,
   "id": "choice-professor",
   "metadata": {},
   "outputs": [],
   "source": [
    "(img, ref) = load(\"01L\", True)\n",
    "\n",
    "print(\"Metoda 1\")\n",
    "m1 = method_1(img, False)\n",
    "analysis(m1, ref, \"01L\")"
   ]
  },
  {
   "cell_type": "markdown",
   "id": "impressed-tenant",
   "metadata": {},
   "source": [
    "# Klasyfikator"
   ]
  },
  {
   "cell_type": "code",
   "execution_count": null,
   "id": "greater-welsh",
   "metadata": {},
   "outputs": [],
   "source": [
    "def features(frag):\n",
    "    return frag.flatten().flatten()\n",
    "\n",
    "def before_retouch(img):\n",
    "    img = exposure.adjust_gamma(img, 0.5)\n",
    "    img = exposure.rescale_intensity(img)\n",
    "    filtered = filters.gaussian(img, 3, multichannel=True)\n",
    "    filtered = filters.unsharp_mask(img, 10)\n",
    "    return filtered"
   ]
  },
  {
   "cell_type": "code",
   "execution_count": null,
   "id": "delayed-animation",
   "metadata": {},
   "outputs": [],
   "source": [
    "def check_if_only_zeros(listt):\n",
    "    for value in listt.flatten().flatten().flatten():\n",
    "        if value != 0:\n",
    "            return False\n",
    "    return True\n",
    "\n",
    "def beforeRetouch(img):\n",
    "    img = exposure.adjust_gamma(img, 0.5)\n",
    "    img = exposure.rescale_intensity(img)\n",
    "    filtered = filters.gaussian(img, 3, multichannel=True)\n",
    "    filtered = filters.unsharp_mask(img, 10)\n",
    "    return filtered\n",
    "\n",
    "def getTrainingDataFromImage( id, box, remove0=True, data5050=True ):\n",
    "    (img, ref) = load(id, False)\n",
    "    img = beforeRetouch(img)\n",
    "    (patches, refs) = get_picture_data(img, ref, box)\n",
    "    \n",
    "    print(\"All patches, refs: \", len(patches), len(refs))\n",
    "    \n",
    "    if (remove0):\n",
    "        indexesToRemove = []\n",
    "        for i in range(len(patches)):\n",
    "            if (check_if_only_zeros(patches[i]) ):\n",
    "                indexesToRemove.append(i)\n",
    "\n",
    "        indexesToRemove.pop(0)\n",
    "        print(\"To remove (0,0,0): \", len(indexesToRemove))\n",
    "        patches = np.delete(patches, indexesToRemove, axis=0)\n",
    "        refs = np.delete(refs, indexesToRemove, axis=0)\n",
    "        print(\"After removing: \", len(patches))\n",
    "\n",
    "    if (data5050):\n",
    "        refs_positive = refs[refs == True]\n",
    "        patches_positive = patches[refs == True]\n",
    "\n",
    "        refs_negative = refs[refs == False]\n",
    "        patches_negative = patches[refs == False]\n",
    "        print(\"Positive (patches, refs): \", len(patches_positive), len(refs_positive))\n",
    "        print(\"Negative (patches, refs): \", len(patches_negative), len(refs_negative))\n",
    "\n",
    "        sample_indexes = random.sample( range(len(refs_negative)), len(refs_positive))\n",
    "\n",
    "        patches = np.append(patches_positive, patches_negative[sample_indexes], axis=0)\n",
    "        refs = np.append(refs_positive, refs_negative[sample_indexes], axis = 0)\n",
    "        print(\"Img data to sample from (patches, refs): \", len(patches), len(refs), \"\\n\")\n",
    "    \n",
    "    feats = [features(f) for f in patches]\n",
    "    return (feats, refs)\n",
    "\n",
    "def getTrainingData( imgIdList, sampleCount, box=9, remove0=True, data5050=True ):\n",
    "    allFeats = []\n",
    "    allRefs = []\n",
    "    for imgId in imgIdList:\n",
    "        print(\"Loading\", imgId)\n",
    "        (feats, refs) = getTrainingDataFromImage(imgId, box, remove0, data5050)\n",
    "        allFeats += list(feats)\n",
    "        allRefs += list(refs)\n",
    "        \n",
    "    print(\"All img data to sample from: \",len(allFeats))\n",
    "    \n",
    "    return random.sample(list(zip(allFeats, allRefs)), sampleCount)"
   ]
  },
  {
   "cell_type": "code",
   "execution_count": null,
   "id": "brown-washer",
   "metadata": {},
   "outputs": [],
   "source": [
    "def testfunction(estimator, id, box=9):\n",
    "    (img, ref) = load(id, False)\n",
    "    img = before_retouch(img)\n",
    "    (patches, refs) = get_picture_data(img, ref, box)\n",
    "    feats = [features(f) for f in patches]\n",
    "    \n",
    "    predicted = estimator.predict(feats)\n",
    "    print('sum of predicted', sum(predicted))\n",
    "\n",
    "    predicted_2d = np.reshape(predicted, (img.shape[0] - box + 1, img.shape[1] - box + 1))\n",
    "    refs_2d = np.reshape(refs, (img.shape[0] - box + 1, img.shape[1] - box + 1))\n",
    "    \n",
    "    # predicted_2d = morphology.dilation(predicted_2d)\n",
    "\n",
    "    return (predicted_2d, refs_2d)"
   ]
  },
  {
   "cell_type": "code",
   "execution_count": null,
   "id": "dental-genre",
   "metadata": {},
   "outputs": [],
   "source": [
    "def method_2(id):\n",
    "    clf = pickle.load(open(\"clf\", \"rb\"))\n",
    "    return testfunction(clf, id, box=9)"
   ]
  },
  {
   "cell_type": "markdown",
   "id": "bizarre-directory",
   "metadata": {
    "scrolled": false
   },
   "source": [
    "### Trenowanie"
   ]
  },
  {
   "cell_type": "code",
   "execution_count": null,
   "id": "latin-charles",
   "metadata": {},
   "outputs": [],
   "source": [
    "sample = getTrainingData([\"01L\", \"01R\"], 100000, 5, remove0=False, data5050=True)\n",
    "\n",
    "clf = tree.DecisionTreeClassifier()\n",
    "clf.fit([f for f, _ in sample], [r for _, r in sample])\n",
    "\n",
    "# Zapis klasyfikatora do pliku\n",
    "pickle.dump(clf, open(\"clf\", \"wb\"))"
   ]
  },
  {
   "cell_type": "markdown",
   "id": "executed-departure",
   "metadata": {},
   "source": [
    "### Wykonanie"
   ]
  },
  {
   "cell_type": "code",
   "execution_count": null,
   "id": "offshore-drill",
   "metadata": {},
   "outputs": [],
   "source": [
    "# Odczyt klasyfikatora z pliku\n",
    "clf = pickle.load(open(\"clf\", \"rb\"))\n",
    "\n",
    "(predicted_2d, ref_2d) = method_2(\"05L\")\n",
    "plt.imshow(predicted_2d, cmap='gray')\n",
    "\n",
    "analysis(p2d, ref_2d)"
   ]
  },
  {
   "cell_type": "markdown",
   "id": "hispanic-nutrition",
   "metadata": {},
   "source": [
    "# Sieć neuronowa"
   ]
  },
  {
   "cell_type": "code",
   "execution_count": null,
   "id": "boxed-liverpool",
   "metadata": {},
   "outputs": [],
   "source": [
    "def patch_preprocess(patch):\n",
    "    m = np.mean(patch, axis=(0,1))\n",
    "    s = np.std(patch, axis=(0,1))\n",
    "    s[s == 0] = 0.000000001\n",
    "    standarized = (patch - m) / s\n",
    "    min_value = np.min(standarized, axis=(0,1))\n",
    "    max_value = np.max(standarized, axis=(0,1))\n",
    "    div = (max_value - min_value)\n",
    "    div[div == 0] = 0.000000001\n",
    "    return (standarized - min_value) / div"
   ]
  },
  {
   "cell_type": "code",
   "execution_count": null,
   "id": "ceramic-teens",
   "metadata": {},
   "outputs": [],
   "source": [
    "def get_train_test_data(ids, sampleCount, test_size=0.33, box=5):\n",
    "    allPatches = []\n",
    "    allRefs = []\n",
    "    for imgId in ids:\n",
    "        print(\"Loading\", imgId)\n",
    "        (img, ref) = load(imgId, False)\n",
    "        #img = before_retouch(img)\n",
    "        (patches, refs) = get_picture_data(img, ref, box)\n",
    "        allPatches.append(patches)\n",
    "        allRefs.append(refs)\n",
    "        \n",
    "    # Join data from all images\n",
    "    allPatches = np.concatenate(allPatches, axis=0)\n",
    "    allRefs = np.concatenate(allRefs, axis=0)\n",
    "    print(allPatches.shape)\n",
    "    print(allRefs.shape)\n",
    "    \n",
    "    # Delete data\n",
    "    indexes = random.sample(range(allPatches.shape[0] - 1), k=allPatches.shape[0] - sampleCount)\n",
    "    allPatches = np.delete(allPatches, indexes, axis=0)\n",
    "    allRefs = np.delete(allRefs, indexes, axis=0)\n",
    "    \n",
    "    allPatches = np.stack([patch_preprocess(patch) for patch in allPatches], axis=0)\n",
    "    \n",
    "    print(allPatches.shape)\n",
    "    print(allRefs.shape)\n",
    "    \n",
    "    return train_test_split(allPatches, allRefs, test_size=0.33)"
   ]
  },
  {
   "cell_type": "code",
   "execution_count": null,
   "id": "thousand-rates",
   "metadata": {},
   "outputs": [],
   "source": [
    "# Test model\n",
    "def test_model(model, id, box, threshold=None):\n",
    "    (img, ref) = load(id, False)\n",
    "    (patches, refs) = get_picture_data(img, ref, box)\n",
    "    patches = np.stack([patch_preprocess(patch) for patch in patches], axis=0)\n",
    "    predicted = model.predict(patches)\n",
    "    predicted_2d = np.reshape(predicted, (img.shape[0] - box + 1, img.shape[1] - box + 1))\n",
    "    refs_2d = np.reshape(refs, (img.shape[0] - box + 1, img.shape[1] - box + 1))\n",
    "    if threshold is not None:\n",
    "        predicted_2d = predicted_2d > threshold\n",
    "    return (predicted_2d, refs_2d)"
   ]
  },
  {
   "cell_type": "code",
   "execution_count": null,
   "id": "disturbed-accreditation",
   "metadata": {},
   "outputs": [],
   "source": [
    "def method_3(id):\n",
    "    model = load_model('model.keras')\n",
    "    return test_model(model, id, box=19, threshold=0.3)  "
   ]
  },
  {
   "cell_type": "markdown",
   "id": "elementary-offense",
   "metadata": {},
   "source": [
    "### Trenowanie"
   ]
  },
  {
   "cell_type": "code",
   "execution_count": null,
   "id": "three-transparency",
   "metadata": {},
   "outputs": [],
   "source": [
    "# Pobieranie danych\n",
    "x_train, x_test, y_train, y_test = get_train_test_data([\"01L\", \"01R\", \"02L\", \"02R\", \"03L\", \"03R\"], 800000, box=13)"
   ]
  },
  {
   "cell_type": "code",
   "execution_count": null,
   "id": "available-vatican",
   "metadata": {
    "scrolled": false
   },
   "outputs": [],
   "source": [
    "# Model\n",
    "model = Sequential()\n",
    "\n",
    "model.add(Conv2D(32, (3,3), activation = 'relu', padding='same', input_shape=(19,19,3)))\n",
    "model.add(Conv2D(32, (3,3), activation = 'relu', padding='same'))\n",
    "model.add(MaxPooling2D((2,2)))\n",
    "\n",
    "model.add(Conv2D(48, (3,3), activation = 'relu', padding='same'))\n",
    "model.add(Conv2D(48, (3,3), activation = 'relu', padding='same'))\n",
    "model.add(MaxPooling2D((2,2)))\n",
    "\n",
    "model.add(Conv2D(64, (3,3), activation = 'relu', padding='same'))\n",
    "model.add(Conv2D(64, (3,3), activation = 'relu', padding='same'))\n",
    "model.add(MaxPooling2D((2,2), padding='same'))\n",
    "\n",
    "model.add(Conv2D(96, (3,3), activation = 'relu', padding='same'))\n",
    "model.add(Conv2D(96, (3,3), activation = 'relu', padding='same'))\n",
    "model.add(MaxPooling2D((2,2), padding='same'))\n",
    "\n",
    "model.add(Conv2DTranspose(64, (2,2), strides=(2,2), activation = 'relu', padding='same'))\n",
    "model.add(Conv2D(64, (3,3), activation = 'relu', padding='same'))\n",
    "model.add(Conv2D(64, (3,3), activation = 'relu', padding='same'))\n",
    "\n",
    "model.add(Conv2DTranspose(48, (2,2), strides=(2,2), activation = 'relu', padding='same'))\n",
    "model.add(Conv2D(48, (3,3), activation = 'relu', padding='same'))\n",
    "model.add(Conv2D(48, (3,3), activation = 'relu', padding='same'))\n",
    "\n",
    "model.add(Conv2DTranspose(32, (2,2), strides=(2,2), activation = 'relu', padding='same'))\n",
    "model.add(Conv2D(32, (3,3), activation = 'relu', padding='same'))\n",
    "model.add(Conv2D(32, (3,3), activation = 'relu', padding='same'))\n",
    "\n",
    "model.add(Flatten())\n",
    "model.add(Dense(units=1, activation='sigmoid'))\n",
    "\n",
    "model.compile(loss='binary_crossentropy', optimizer='adam', metrics=['accuracy'])"
   ]
  },
  {
   "cell_type": "code",
   "execution_count": null,
   "id": "scheduled-canada",
   "metadata": {
    "scrolled": false
   },
   "outputs": [],
   "source": [
    "model.fit(x_train, y_train, validation_data=(x_test, y_test), epochs=5, batch_size=256)"
   ]
  },
  {
   "cell_type": "code",
   "execution_count": null,
   "id": "executive-extreme",
   "metadata": {},
   "outputs": [],
   "source": [
    "model.save('model.keras')"
   ]
  },
  {
   "cell_type": "code",
   "execution_count": null,
   "id": "corporate-wallace",
   "metadata": {},
   "outputs": [],
   "source": [
    "loss, accuracy = model.evaluate(x_test, y_test)\n",
    "print(f\"Loss = {loss*100.0}%\\nAccuracy = {accuracy*100}%\")"
   ]
  },
  {
   "cell_type": "markdown",
   "id": "synthetic-speaker",
   "metadata": {},
   "source": [
    "### Wykonanie"
   ]
  },
  {
   "cell_type": "code",
   "execution_count": null,
   "id": "interested-wings",
   "metadata": {},
   "outputs": [],
   "source": [
    "(predicted, reference) = test_model(model, \"04L\", box=13, threshold=0.3)\n",
    "imshow(predicted)"
   ]
  },
  {
   "cell_type": "code",
   "execution_count": null,
   "id": "hairy-kazakhstan",
   "metadata": {},
   "outputs": [],
   "source": [
    "analysis(predicted, reference)"
   ]
  },
  {
   "cell_type": "markdown",
   "id": "special-plymouth",
   "metadata": {},
   "source": [
    "### Wczytywanie"
   ]
  },
  {
   "cell_type": "code",
   "execution_count": null,
   "id": "special-elizabeth",
   "metadata": {
    "scrolled": false
   },
   "outputs": [],
   "source": [
    "import time\n",
    "\n",
    "start = time.time()\n",
    "(predicted, reference) = method_3(\"05L\")\n",
    "end = time.time()\n",
    "\n",
    "print(end - start)"
   ]
  },
  {
   "cell_type": "code",
   "execution_count": null,
   "id": "traditional-creativity",
   "metadata": {
    "scrolled": false
   },
   "outputs": [],
   "source": [
    "imshow(predicted)"
   ]
  },
  {
   "cell_type": "code",
   "execution_count": null,
   "id": "specific-field",
   "metadata": {
    "scrolled": true
   },
   "outputs": [],
   "source": [
    "analysis(predicted, reference)"
   ]
  },
  {
   "cell_type": "markdown",
   "id": "stuffed-ethnic",
   "metadata": {},
   "source": [
    "# Uruchamianie"
   ]
  },
  {
   "cell_type": "code",
   "execution_count": null,
   "id": "elegant-strike",
   "metadata": {
    "scrolled": false
   },
   "outputs": [],
   "source": [
    "def go_button_clicked(btn):\n",
    "    global filename, methods, do_analysis\n",
    "    name = filename.value\n",
    "    method = methods.value\n",
    "    doing_analysis = do_analysis.value\n",
    "    if method == 1:\n",
    "        (img, ref) = load(name, True)\n",
    "        m1 = method_1(img, False)\n",
    "        imshow(m1, \"Metoda 1\")\n",
    "        if doing_analysis:\n",
    "            analysis(m1, ref)\n",
    "    elif method == 2:\n",
    "        _ = load(name, True)\n",
    "        (predicted, ref) = method_2(name)\n",
    "        imshow(predicted, \"Metoda 2\")\n",
    "        if doing_analysis:\n",
    "            analysis(predicted, ref)\n",
    "    elif method == 3:\n",
    "        _ = load(name, True)\n",
    "        (predicted, ref) = method_3(name)\n",
    "        imshow(predicted, \"Metoda 3\")\n",
    "        if doing_analysis:\n",
    "            analysis(predicted, ref)\n",
    "\n",
    "filename = widgets.Text(\n",
    "    value='04L',\n",
    "    description='Nazwa pliku:',\n",
    "    disabled=False)\n",
    "\n",
    "methods = widgets.RadioButtons(\n",
    "    options=[('Metoda 1', 1), ('Metoda 2 (Klasyfikator)', 2), ('Metoda 3 (Sieć neuronowa)', 3)],\n",
    "    value=1,\n",
    "    description='Metoda:',\n",
    "    disabled=False\n",
    ")\n",
    "\n",
    "do_analysis = widgets.Checkbox(\n",
    "    value=False,\n",
    "    description='Analiza',\n",
    "    disabled=False)\n",
    "\n",
    "button = widgets.Button(\n",
    "    description='Wykryj',\n",
    "    disabled=False)\n",
    "\n",
    "button.on_click(go_button_clicked)\n",
    "\n",
    "display(filename, methods, do_analysis, button)"
   ]
  },
  {
   "cell_type": "code",
   "execution_count": null,
   "id": "agreed-robertson",
   "metadata": {},
   "outputs": [],
   "source": []
  }
 ],
 "metadata": {
  "kernelspec": {
   "display_name": "Python 3",
   "language": "python",
   "name": "python3"
  },
  "language_info": {
   "codemirror_mode": {
    "name": "ipython",
    "version": 3
   },
   "file_extension": ".py",
   "mimetype": "text/x-python",
   "name": "python",
   "nbconvert_exporter": "python",
   "pygments_lexer": "ipython3",
   "version": "3.9.4"
  }
 },
 "nbformat": 4,
 "nbformat_minor": 5
}
