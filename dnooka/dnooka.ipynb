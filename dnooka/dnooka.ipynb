{
 "cells": [
  {
   "cell_type": "code",
   "execution_count": null,
   "id": "sensitive-netherlands",
   "metadata": {},
   "outputs": [],
   "source": [
    "import numpy as np\n",
    "import matplotlib.pyplot as plt\n",
    "from skimage import filters, exposure, feature, morphology\n",
    "from skimage.color import rgb2gray"
   ]
  },
  {
   "cell_type": "code",
   "execution_count": null,
   "id": "incorrect-decrease",
   "metadata": {},
   "outputs": [],
   "source": [
    "img = plt.imread('chase/Image_05L.jpg')\n",
    "img = rgb2gray(img)\n",
    "img = exposure.adjust_gamma(img, 0.5)\n",
    "img = exposure.rescale_intensity(img)"
   ]
  },
  {
   "cell_type": "code",
   "execution_count": null,
   "id": "eight-amber",
   "metadata": {
    "scrolled": false
   },
   "outputs": [],
   "source": [
    "plt.figure(figsize = (5,5))\n",
    "plt.imshow(img)"
   ]
  },
  {
   "cell_type": "code",
   "execution_count": null,
   "id": "aggressive-drunk",
   "metadata": {},
   "outputs": [],
   "source": [
    "filtered = filters.gaussian(img, 3)\n",
    "filtered = filters.unsharp_mask(img, 10)"
   ]
  },
  {
   "cell_type": "code",
   "execution_count": null,
   "id": "lined-canal",
   "metadata": {},
   "outputs": [],
   "source": [
    "plt.figure(figsize = (8,8))\n",
    "plt.imshow(filtered)"
   ]
  },
  {
   "cell_type": "code",
   "execution_count": null,
   "id": "possible-slave",
   "metadata": {},
   "outputs": [],
   "source": [
    "edges = filters.frangi(filtered)"
   ]
  },
  {
   "cell_type": "code",
   "execution_count": null,
   "id": "facial-turkey",
   "metadata": {},
   "outputs": [],
   "source": [
    "plt.figure(figsize = (12,12))\n",
    "plt.imshow(edges)"
   ]
  },
  {
   "cell_type": "code",
   "execution_count": null,
   "id": "pacific-champagne",
   "metadata": {
    "scrolled": false
   },
   "outputs": [],
   "source": [
    "binary = edges > filters.threshold_triangle(edges, 512)\n",
    "plt.figure(figsize = (10,10))\n",
    "plt.imshow(binary)"
   ]
  },
  {
   "cell_type": "code",
   "execution_count": null,
   "id": "mathematical-installation",
   "metadata": {},
   "outputs": [],
   "source": [
    "f = morphology.binary_opening(binary)\n",
    "plt.figure(figsize = (10,10))\n",
    "plt.imshow(f)"
   ]
  },
  {
   "cell_type": "code",
   "execution_count": null,
   "id": "possible-indianapolis",
   "metadata": {},
   "outputs": [],
   "source": [
    "def mask(image):\n",
    "    (h, w) = f.shape\n",
    "    center = (int(w/2), int(h/2))\n",
    "    radius = min(center[0], center[1], w-center[0], h-center[1]) * 0.92\n",
    "\n",
    "    Y, X = np.ogrid[:h, :w]\n",
    "    dist_from_center = np.sqrt((X - center[0])**2 + (Y-center[1])**2)\n",
    "\n",
    "    image[dist_from_center > radius] = 0"
   ]
  },
  {
   "cell_type": "code",
   "execution_count": null,
   "id": "suspended-charger",
   "metadata": {},
   "outputs": [],
   "source": [
    "mask(f)\n",
    "plt.figure(figsize = (10,10))\n",
    "plt.imshow(f)"
   ]
  }
 ],
 "metadata": {
  "kernelspec": {
   "display_name": "Python 3",
   "language": "python",
   "name": "python3"
  },
  "language_info": {
   "codemirror_mode": {
    "name": "ipython",
    "version": 3
   },
   "file_extension": ".py",
   "mimetype": "text/x-python",
   "name": "python",
   "nbconvert_exporter": "python",
   "pygments_lexer": "ipython3",
   "version": "3.9.4"
  }
 },
 "nbformat": 4,
 "nbformat_minor": 5
}
